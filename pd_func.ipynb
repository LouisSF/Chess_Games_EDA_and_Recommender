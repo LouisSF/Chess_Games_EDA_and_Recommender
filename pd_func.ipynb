{
 "cells": [
  {
   "cell_type": "code",
   "execution_count": 5,
   "metadata": {},
   "outputs": [],
   "source": [
    "def check_na(df):\n",
    "  \"\"\"\n",
    "  Prints the number of NA values for each column\n",
    "  \"\"\"\n",
    "  print(pd.isna(df).sum())"
   ]
  },
  {
   "cell_type": "code",
   "execution_count": 7,
   "metadata": {},
   "outputs": [],
   "source": [
    "def categorize_length(length_dur):\n",
    "    if length_dur <= 2:\n",
    "        return \"short\"\n",
    "    elif length_dur < 7*24:\n",
    "        return \"average\"\n",
    "    else:\n",
    "        return \"long\""
   ]
  },
  {
   "cell_type": "code",
   "execution_count": 9,
   "metadata": {},
   "outputs": [],
   "source": [
    "def categorize_castling(moves):\n",
    "    list_moves = moves.split(\" \")\n",
    "    #print(list_moves)\n",
    "    castling = [False, False]\n",
    "    for parity, move in enumerate(list_moves):\n",
    "        if move == \"O-O\" or move == \"O-O-O\":\n",
    "            if parity%2:\n",
    "                #Black\n",
    "                castling[1] = True\n",
    "            else:\n",
    "                #White\n",
    "                castling[0] = True\n",
    "    #print()\n",
    "    if castling[0] and castling[1]:\n",
    "        return \"Both\"\n",
    "    elif castling[0]:\n",
    "        return \"White\"\n",
    "    elif castling[1]:\n",
    "        return \"Black\"\n",
    "    else:\n",
    "        return \"None\""
   ]
  },
  {
   "cell_type": "code",
   "execution_count": 2,
   "metadata": {},
   "outputs": [],
   "source": [
    "def categorize_position(moves):\n",
    "    list_moves = moves.split(\" \")\n",
    "    #print(list_moves)\n",
    "    #print(\"a\")\n",
    "    assert(len(list_moves) > 3), list_moves\n",
    "    first_move = list_moves[0]\n",
    "    if first_move == \"e4\":\n",
    "        if list_moves[1] == \"e5\":\n",
    "            return \"open\"\n",
    "        else:\n",
    "            return \"semi-open\"\n",
    "    elif first_move == \"d4\":\n",
    "        if list_moves[1] == \"d5\":\n",
    "            return \"closed\"\n",
    "        elif list_moves[1] == \"Nf6\":\n",
    "            return \"indian\"\n",
    "        else:\n",
    "            return \"semi-closed\"\n",
    "    elif first_move in [\"b3\", \"b4\", \"c4\", \"f4\", \"g3\"]:\n",
    "        return \"flank\"\n",
    "    elif first_move == \"Nf3\":\n",
    "        if list_moves[2] in [\"g3\", \"b3\"]:\n",
    "            return \"flank\"\n",
    "        elif list_moves[2] == \"d4\" or list_moves[4] == \"d4\":\n",
    "            if list_moves[3] == \"d5\" or list_moves[5] == \"d5\":\n",
    "                return \"closed\"\n",
    "            else:\n",
    "                return \"semi-closed\"\n",
    "    else:\n",
    "        return \"other\"\n",
    "    "
   ]
  },
  {
   "cell_type": "code",
   "execution_count": null,
   "metadata": {},
   "outputs": [],
   "source": [
    "def categorize_eco(opening_eco):\n",
    "    letter = opening_eco[0]\n",
    "    numbers = int(opening_eco[1:3])\n",
    "    if letter == \"A\":\n",
    "        if numbers < 40:\n",
    "            return \"FLANK OPENINGS \"\n",
    "        elif numbers < 45:\n",
    "            return \"QP OPENING without 1..d5 or 1..f5 or 1..Nf6 reply\"\n",
    "        elif numbers < 50:\n",
    "            return \"QP OPENING, INDIAN DEFENCE (1.d4 Nf6) without 2.c4\"\n",
    "        elif numbers < 80:\n",
    "            return \"QP OPENING, INDIAN DEFENCE with 2.c4 but without 2..e6 or 2..g6\"\n",
    "        else:\n",
    "            return \"QP OPENING with 1..f5 reply (= Dutch Defence)\"\n",
    "    elif letter == \"B\":\n",
    "        if numbers < 20:\n",
    "            return \"KP OPENING without 1..c5, ..1.e6 or ..1.e5 - incl. Alekhine, Caro-Kann Defs.\"\n",
    "        else:\n",
    "            return \"KP OPENING with 1..c5 reply (= Sicilian Defence)\"\n",
    "    elif letter == \"C\":\n",
    "        if numbers < 20:\n",
    "            return \"KP OPENING with 1..e6 reply (= French Defence)\"\n",
    "        else:\n",
    "            return \"KP OPENING with 1..e5 reply (= Mutual King's Pawn, incl. Ruy Lopez)\"\n",
    "    elif letter == \"D\":\n",
    "        if numbers < 6:\n",
    "            return \"QP GAME (1.d4 d5) without 2.c4 (= Queen's Pawn Game)\"\n",
    "        elif numbers < 70:\n",
    "            return \"QP GAME (1.d4 d5) with 2.c4 (= Queen's Gambit)\"\n",
    "        else:\n",
    "            return \"QP, INDIAN DEF. (1.d4 Nf6, 2.c4 g6) with early ..d5 (= Grunfeld Defence)\"\n",
    "    elif letter == \"E\":\n",
    "        if numbers < 60:\n",
    "            return \"QP, INDIAN DEF. (1.d4 Nf6) with 2.c4 e6 - includes Catalan Opening\"\n",
    "        else:\n",
    "            return \"QP, INDIAN DEF. (1.d4 Nf6, 2.c4 g6) without early ..d5 (= King's Indian)\""
   ]
  }
 ],
 "metadata": {
  "kernelspec": {
   "display_name": "Python 3",
   "language": "python",
   "name": "python3"
  },
  "language_info": {
   "codemirror_mode": {
    "name": "ipython",
    "version": 3
   },
   "file_extension": ".py",
   "mimetype": "text/x-python",
   "name": "python",
   "nbconvert_exporter": "python",
   "pygments_lexer": "ipython3",
   "version": "3.6.9"
  }
 },
 "nbformat": 4,
 "nbformat_minor": 4
}
