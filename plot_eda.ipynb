{
 "cells": [
  {
   "cell_type": "code",
   "execution_count": 4,
   "metadata": {},
   "outputs": [],
   "source": [
    "def plot_elo_victory_against_turns(chess_data, turns = 10):\n",
    "    fig, axes = plt.subplots(ncols=3)\n",
    "    fig.set_figheight(5)\n",
    "    fig.set_figwidth(17)\n",
    "    sns.kdeplot(chess_data.loc[chess_data['turns']<turns].white_rating, ax = axes[0], label=\"Under \"+str(turns)+\" turns\")\n",
    "    sns.kdeplot(chess_data.loc[chess_data['turns']>=turns].white_rating, ax = axes[0], label=\"Over \"+str(turns)+\" turns\")\n",
    "    chess_data.loc[chess_data['turns']<turns].victory_status.value_counts().plot(kind=\"pie\", autopct='%1.2f%%' , ax = axes[1], label=f\"Victory status under {turns} turns\",\n",
    "                                                                                 labels = ['resign', 'outoftime', 'mate', 'draw'])#, colors = ['r', 'g', 'b', 'c'])\n",
    "    chess_data.loc[chess_data['turns']>=turns].victory_status.value_counts().plot(kind=\"pie\", autopct='%1.2f%%' , ax = axes[2], label=f\"Victory status over {turns} turns\", \n",
    "                                                                                 labels = ['resign', 'outoftime', 'mate', 'draw'])#, colors=['r', 'g', 'b', 'c'])\n",
    "   # plt.plot()"
   ]
  },
  {
   "cell_type": "code",
   "execution_count": 6,
   "metadata": {},
   "outputs": [],
   "source": [
    "def plot_kde_rating_for_opening_categories(chess_data):\n",
    "    fig, axes = plt.subplots(ncols=1)\n",
    "    fig.set_figheight(5)\n",
    "    fig.set_figwidth(17)\n",
    "    for el in [\"A\", \"B\", \"C\", \"D\", \"E\"]:\n",
    "        sns.kdeplot(chess_data.groupby(chess_data.opening_eco.str[0]).get_group(el).white_rating, ax = axes, label = el)\n",
    "        #sns.kdeplot(chess_data.loc[chess_data['turns']<turns].white_rating, ax = axes[i], label=\"Under \"+str(turns)+\" turns\")\n",
    "    #sns.kdeplot(chess_data.loc[chess_data['turns']>=turns].white_rating, ax = axes[0], label=\"Over \"+str(turns)+\" turns\")                                                                                 labels = ['resign', 'outoftime', 'mate', 'draw'])#, colors=['r', 'g', 'b', 'c'])\n",
    "    \n",
    "    #plt.plot()"
   ]
  },
  {
   "cell_type": "code",
   "execution_count": 10,
   "metadata": {},
   "outputs": [],
   "source": [
    "def plot_count_rating_for_opening_categories(chess_data):\n",
    "    fig = plt.figure()\n",
    "    fig.set_figheight(10)\n",
    "    fig.set_figwidth(17)\n",
    "    plt.yticks(np.arange(0, 700, 50))  \n",
    "    sns.histplot(chess_data, x = \"white_rating\", hue=chess_data.opening_eco.str[0], kde = False,\n",
    "                fill=False, element = \"poly\", hue_order = [\"A\", \"B\", \"C\", \"D\", \"E\"])"
   ]
  }
 ],
 "metadata": {
  "kernelspec": {
   "display_name": "Python 3",
   "language": "python",
   "name": "python3"
  },
  "language_info": {
   "codemirror_mode": {
    "name": "ipython",
    "version": 3
   },
   "file_extension": ".py",
   "mimetype": "text/x-python",
   "name": "python",
   "nbconvert_exporter": "python",
   "pygments_lexer": "ipython3",
   "version": "3.6.9"
  }
 },
 "nbformat": 4,
 "nbformat_minor": 4
}
